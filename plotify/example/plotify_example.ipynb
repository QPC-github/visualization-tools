{
 "cells": [
  {
   "cell_type": "code",
   "execution_count": null,
   "metadata": {
    "scrolled": true
   },
   "outputs": [],
   "source": [
    "# Install the package if not done already\n",
    "!pip2 install git+git://github.com/Shopify/visualization-tools.git"
   ]
  },
  {
   "cell_type": "code",
   "execution_count": null,
   "metadata": {},
   "outputs": [],
   "source": [
    "from plotify.plotify import *\n",
    "from plotly.offline import init_notebook_mode, iplot, plot\n",
    "init_notebook_mode()"
   ]
  },
  {
   "cell_type": "code",
   "execution_count": null,
   "metadata": {
    "scrolled": true
   },
   "outputs": [],
   "source": [
    "df = pd.read_csv('plotify_example.tsv', sep='\\t')\n",
    "df.head()"
   ]
  },
  {
   "cell_type": "code",
   "execution_count": null,
   "metadata": {},
   "outputs": [],
   "source": [
    "# No more shop information!\n",
    "fig = create_plotly_fig(df=df,\n",
    "                        x='date',\n",
    "                        value='order',\n",
    "                        plot_by='country',\n",
    "                        color_by='plan',\n",
    "                        number_of_column=2)\n",
    "iplot(fig)"
   ]
  },
  {
   "cell_type": "code",
   "execution_count": null,
   "metadata": {},
   "outputs": [],
   "source": [
    "# Only per plan\n",
    "fig = create_plotly_fig(df=df,\n",
    "                        x='date',\n",
    "                        value='order',\n",
    "                        color_by='plan',\n",
    "                        number_of_column=1)\n",
    "iplot(fig)"
   ]
  },
  {
   "cell_type": "code",
   "execution_count": null,
   "metadata": {},
   "outputs": [],
   "source": [
    "# Everything together\n",
    "fig = create_plotly_fig(df=df,\n",
    "                        x='date',\n",
    "                        value='order',\n",
    "                        number_of_column=1)\n",
    "iplot(fig)"
   ]
  },
  {
   "cell_type": "code",
   "execution_count": null,
   "metadata": {},
   "outputs": [],
   "source": [
    "# One plot per plan\n",
    "# Too big to show? Check next cell!\n",
    "fig = create_plotly_fig(df=df,\n",
    "                        x='date',\n",
    "                        value='order',\n",
    "                        plot_by='plan',\n",
    "                        number_of_column=1)\n",
    "iplot(fig)\n"
   ]
  },
  {
   "cell_type": "code",
   "execution_count": null,
   "metadata": {
    "scrolled": true
   },
   "outputs": [],
   "source": [
    "from IPython.display import IFrame\n",
    "plot(fig, filename='temp-plot.html')\n",
    "IFrame('temp-plot.html', width='100%', height=1600)"
   ]
  },
  {
   "cell_type": "code",
   "execution_count": null,
   "metadata": {},
   "outputs": [],
   "source": []
  }
 ],
 "metadata": {
  "hide_input": false,
  "kernelspec": {
   "display_name": "Python 2",
   "language": "python",
   "name": "python2"
  },
  "language_info": {
   "codemirror_mode": {
    "name": "ipython",
    "version": 2
   },
   "file_extension": ".py",
   "mimetype": "text/x-python",
   "name": "python",
   "nbconvert_exporter": "python",
   "pygments_lexer": "ipython2",
   "version": "2.7.13"
  }
 },
 "nbformat": 4,
 "nbformat_minor": 2
}
